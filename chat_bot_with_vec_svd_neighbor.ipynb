{
 "cells": [
  {
   "cell_type": "code",
   "execution_count": 1,
   "id": "c14c0af8",
   "metadata": {},
   "outputs": [],
   "source": [
    "import pandas as pd"
   ]
  },
  {
   "cell_type": "markdown",
   "id": "d6da3154",
   "metadata": {},
   "source": [
    "Считаем данные с диска"
   ]
  },
  {
   "cell_type": "code",
   "execution_count": 2,
   "id": "15f7b2be",
   "metadata": {},
   "outputs": [],
   "source": [
    "good = pd.read_csv('good.tsv', sep = '\\t')"
   ]
  },
  {
   "cell_type": "markdown",
   "id": "4266f9ea",
   "metadata": {},
   "source": [
    "Покажем три случайные строки текст - ответ"
   ]
  },
  {
   "cell_type": "code",
   "execution_count": 3,
   "id": "d1a53d55",
   "metadata": {},
   "outputs": [
    {
     "data": {
      "text/html": [
       "<div>\n",
       "<style scoped>\n",
       "    .dataframe tbody tr th:only-of-type {\n",
       "        vertical-align: middle;\n",
       "    }\n",
       "\n",
       "    .dataframe tbody tr th {\n",
       "        vertical-align: top;\n",
       "    }\n",
       "\n",
       "    .dataframe thead th {\n",
       "        text-align: right;\n",
       "    }\n",
       "</style>\n",
       "<table border=\"1\" class=\"dataframe\">\n",
       "  <thead>\n",
       "    <tr style=\"text-align: right;\">\n",
       "      <th></th>\n",
       "      <th>context_2</th>\n",
       "      <th>context_1</th>\n",
       "      <th>context_0</th>\n",
       "      <th>reply</th>\n",
       "      <th>label</th>\n",
       "    </tr>\n",
       "  </thead>\n",
       "  <tbody>\n",
       "    <tr>\n",
       "      <th>656</th>\n",
       "      <td>NaN</td>\n",
       "      <td>это и правда хорошо .</td>\n",
       "      <td>ладно .</td>\n",
       "      <td>твоё здоровье .</td>\n",
       "      <td>good</td>\n",
       "    </tr>\n",
       "    <tr>\n",
       "      <th>5502</th>\n",
       "      <td>один миллион жителей против 81 заложника .</td>\n",
       "      <td>а за всем этим стоит фрэнк хаммель .</td>\n",
       "      <td>из - за того , что мы проигнорировали , отказа...</td>\n",
       "      <td>. . которые погибли , делая то , что они счита...</td>\n",
       "      <td>good</td>\n",
       "    </tr>\n",
       "    <tr>\n",
       "      <th>11203</th>\n",
       "      <td>NaN</td>\n",
       "      <td>видео с вами есть по всему интернету !</td>\n",
       "      <td>парень - шиншилла !</td>\n",
       "      <td>супер !</td>\n",
       "      <td>good</td>\n",
       "    </tr>\n",
       "  </tbody>\n",
       "</table>\n",
       "</div>"
      ],
      "text/plain": [
       "                                        context_2  \\\n",
       "656                                           NaN   \n",
       "5502   один миллион жителей против 81 заложника .   \n",
       "11203                                         NaN   \n",
       "\n",
       "                                    context_1  \\\n",
       "656                     это и правда хорошо .   \n",
       "5502     а за всем этим стоит фрэнк хаммель .   \n",
       "11203  видео с вами есть по всему интернету !   \n",
       "\n",
       "                                               context_0  \\\n",
       "656                                              ладно .   \n",
       "5502   из - за того , что мы проигнорировали , отказа...   \n",
       "11203                                парень - шиншилла !   \n",
       "\n",
       "                                                   reply label  \n",
       "656                                      твоё здоровье .  good  \n",
       "5502   . . которые погибли , делая то , что они счита...  good  \n",
       "11203                                            супер !  good  "
      ]
     },
     "execution_count": 3,
     "metadata": {},
     "output_type": "execute_result"
    }
   ],
   "source": [
    "good.sample(3)"
   ]
  },
  {
   "cell_type": "markdown",
   "id": "9ce7c819",
   "metadata": {},
   "source": [
    "Выбираем случайный из всех ответов на данный вопрос"
   ]
  },
  {
   "cell_type": "markdown",
   "id": "c62528ef",
   "metadata": {},
   "source": [
    "отфильтровываем по вопросу реплики"
   ]
  },
  {
   "cell_type": "code",
   "execution_count": 4,
   "id": "e160f420",
   "metadata": {},
   "outputs": [],
   "source": [
    "rep = good[good.context_0 == 'как дела ?'].reply"
   ]
  },
  {
   "cell_type": "code",
   "execution_count": 5,
   "id": "20f6409f",
   "metadata": {},
   "outputs": [
    {
     "data": {
      "text/plain": [
       "25084               пока без изменений .\n",
       "25085               нормально . у тебя ?\n",
       "25086                        нормально .\n",
       "25087               нормально , хорошо .\n",
       "25088                  нормально , мам .\n",
       "25089                       потихоньку .\n",
       "39809    хорошо , спасибо . как у тебя ?\n",
       "39810                     лучше некуда .\n",
       "39811             нормально , а у тебя ?\n",
       "39812                хорошо . как ваши ?\n",
       "39813                          отлично .\n",
       "39814        хорошо . а что ты делаешь ?\n",
       "42086                хорошо . как ваши ?\n",
       "42087                 хорошо . а у вас ?\n",
       "42088                         так себе .\n",
       "42089                       все хорошо .\n",
       "42090              все хорошо , хорошо .\n",
       "42091            нормально , нормально .\n",
       "43270                    как сажа бела .\n",
       "43271                       дела супер .\n",
       "43272                        нормально .\n",
       "43273                     дела отлично .\n",
       "43274                       потихоньку .\n",
       "43275                          все гуд .\n",
       "55580                дерьмово , джимми .\n",
       "55581                       невероятно .\n",
       "55582                           хорошо .\n",
       "55583     ох , хорошо , да , нормально .\n",
       "55584                  хорошо , у тебя ?\n",
       "55585        отлично , тони , а у тебя ?\n",
       "58095    хорошо , спасибо . как у тебя ?\n",
       "58096             дела ? отвратительно .\n",
       "58097             нормально , а у тебя ?\n",
       "58098             а у тебя ? нормально .\n",
       "58099                            никак .\n",
       "58100               отлично , а у тебя ?\n",
       "59793    хорошо , спасибо . как у тебя ?\n",
       "59794                        в порядке .\n",
       "59795                 хорошо , а у вас ?\n",
       "59796                     как мои дела ?\n",
       "59797             а у тебя ? нормально .\n",
       "59798               отлично , а у тебя ?\n",
       "Name: reply, dtype: object"
      ]
     },
     "execution_count": 5,
     "metadata": {},
     "output_type": "execute_result"
    }
   ],
   "source": [
    "rep"
   ]
  },
  {
   "cell_type": "markdown",
   "id": "c09f4d2e",
   "metadata": {},
   "source": [
    "Убедимся, что есть хотя бы один ответ, выбираем один случайный и печатаем"
   ]
  },
  {
   "cell_type": "code",
   "execution_count": 6,
   "id": "11940a81",
   "metadata": {},
   "outputs": [
    {
     "name": "stdout",
     "output_type": "stream",
     "text": [
      "как сажа бела .\n"
     ]
    }
   ],
   "source": [
    "if rep.shape[0] > 0:\n",
    "    print(rep.sample(1).iloc[0])"
   ]
  },
  {
   "cell_type": "markdown",
   "id": "05c70f18",
   "metadata": {},
   "source": [
    "Превратим тексты в числовые векторы"
   ]
  },
  {
   "cell_type": "code",
   "execution_count": 7,
   "id": "f3707f21",
   "metadata": {},
   "outputs": [],
   "source": [
    "from sklearn.feature_extraction.text import TfidfVectorizer"
   ]
  },
  {
   "cell_type": "markdown",
   "id": "575f4737",
   "metadata": {},
   "source": [
    "Создаем объект, который будет преобразовывать текст в числовые векторы"
   ]
  },
  {
   "cell_type": "code",
   "execution_count": 8,
   "id": "86bcf98a",
   "metadata": {},
   "outputs": [],
   "source": [
    "vectorizer = TfidfVectorizer()"
   ]
  },
  {
   "cell_type": "markdown",
   "id": "a3df6a50",
   "metadata": {},
   "source": [
    "Обучаем его на всех контекстах"
   ]
  },
  {
   "cell_type": "code",
   "execution_count": 9,
   "id": "08e2d1e2",
   "metadata": {},
   "outputs": [
    {
     "data": {
      "text/plain": [
       "TfidfVectorizer()"
      ]
     },
     "execution_count": 9,
     "metadata": {},
     "output_type": "execute_result"
    }
   ],
   "source": [
    "vectorizer.fit(good.context_0)"
   ]
  },
  {
   "cell_type": "markdown",
   "id": "d78829ab",
   "metadata": {},
   "source": [
    "Записываем в матрицу сколько раз каждое слово встречалось в каждом тексте"
   ]
  },
  {
   "cell_type": "code",
   "execution_count": 10,
   "id": "dc48adcf",
   "metadata": {},
   "outputs": [],
   "source": [
    "matrix_big = vectorizer.transform(good.context_0)"
   ]
  },
  {
   "cell_type": "code",
   "execution_count": 11,
   "id": "0a61391a",
   "metadata": {},
   "outputs": [
    {
     "name": "stdout",
     "output_type": "stream",
     "text": [
      "Размер матрицы: \n",
      "(60049, 14123)\n"
     ]
    }
   ],
   "source": [
    "print (\"Размер матрицы: \")\n",
    "print (matrix_big.shape)"
   ]
  },
  {
   "cell_type": "markdown",
   "id": "84baccca",
   "metadata": {},
   "source": [
    "Сокращаем размерность с 14123 до 300"
   ]
  },
  {
   "cell_type": "markdown",
   "id": "b9e73a07",
   "metadata": {},
   "source": [
    "Импортируем метод, известный как Метод главных компонент"
   ]
  },
  {
   "cell_type": "code",
   "execution_count": 12,
   "id": "075a56ca",
   "metadata": {},
   "outputs": [],
   "source": [
    "from sklearn.decomposition import TruncatedSVD"
   ]
  },
  {
   "cell_type": "code",
   "execution_count": 13,
   "id": "e90da784",
   "metadata": {},
   "outputs": [
    {
     "data": {
      "text/plain": [
       "TruncatedSVD(n_components=300)"
      ]
     },
     "execution_count": 13,
     "metadata": {},
     "output_type": "execute_result"
    }
   ],
   "source": [
    "svd = TruncatedSVD(n_components=300)\n",
    "svd.fit(matrix_big)"
   ]
  },
  {
   "cell_type": "markdown",
   "id": "2288d6f6",
   "metadata": {},
   "source": [
    "Получим трансформированную матрицу"
   ]
  },
  {
   "cell_type": "code",
   "execution_count": 15,
   "id": "602d99cd",
   "metadata": {},
   "outputs": [],
   "source": [
    "matrix_small = svd.transform(matrix_big)"
   ]
  },
  {
   "cell_type": "code",
   "execution_count": 16,
   "id": "4e431c90",
   "metadata": {},
   "outputs": [
    {
     "name": "stdout",
     "output_type": "stream",
     "text": [
      "(60049, 300)\n"
     ]
    }
   ],
   "source": [
    "print(matrix_small.shape)"
   ]
  },
  {
   "cell_type": "code",
   "execution_count": 17,
   "id": "4808c5bf",
   "metadata": {},
   "outputs": [
    {
     "name": "stdout",
     "output_type": "stream",
     "text": [
      "Коэффициент уменьшения матрицы: \n",
      "0.43950115167888254\n"
     ]
    }
   ],
   "source": [
    "print (\"Коэффициент уменьшения матрицы: \")\n",
    "print ( svd.explained_variance_ratio_.sum())"
   ]
  },
  {
   "cell_type": "markdown",
   "id": "be0d9e3b",
   "metadata": {},
   "source": [
    "Пишем класс для случайного выбора среди подходящих ответов"
   ]
  },
  {
   "cell_type": "code",
   "execution_count": 18,
   "id": "15370ed3",
   "metadata": {},
   "outputs": [],
   "source": [
    "from sklearn.neighbors import BallTree\n",
    "from sklearn.base import BaseEstimator\n",
    "import numpy as np"
   ]
  },
  {
   "cell_type": "markdown",
   "id": "17cba24c",
   "metadata": {},
   "source": [
    "Функция для создания вероятностного распределения"
   ]
  },
  {
   "cell_type": "code",
   "execution_count": 19,
   "id": "e9c399be",
   "metadata": {},
   "outputs": [],
   "source": [
    "def softmax(x):\n",
    "    proba = np.exp(-x)\n",
    "    return proba / sum(proba)"
   ]
  },
  {
   "cell_type": "markdown",
   "id": "8ed4fb17",
   "metadata": {},
   "source": [
    "Класс для случайного выбора одного из случайных ближайших соседей"
   ]
  },
  {
   "cell_type": "code",
   "execution_count": 20,
   "id": "a844e937",
   "metadata": {},
   "outputs": [],
   "source": [
    "class NeighborSampler(BaseEstimator):\n",
    "    def __init__(self, k=5, temperature=10.0):\n",
    "        self.k=k\n",
    "        self.temperature = temperature\n",
    "    def fit(self, X, y):\n",
    "        self.tree_ = BallTree(X)\n",
    "        self.y_ = np.array(y)\n",
    "    def predict(self, X, random_state=None):\n",
    "        distances, indices = self.tree_.query(X, return_distance=True, k=self.k)\n",
    "        result = []\n",
    "        for distance, index in zip(distances, indices):\n",
    "            result.append(np.random.choice(index, p=softmax(distance * self.temperature)))\n",
    "        return self.y_[result]"
   ]
  },
  {
   "cell_type": "markdown",
   "id": "b4cf7439",
   "metadata": {},
   "source": [
    "Соединяем векторизацию, сокращение размерности и поиск соседей"
   ]
  },
  {
   "cell_type": "code",
   "execution_count": 21,
   "id": "6e968c69",
   "metadata": {},
   "outputs": [],
   "source": [
    "from sklearn.pipeline import make_pipeline"
   ]
  },
  {
   "cell_type": "code",
   "execution_count": 22,
   "id": "185ff277",
   "metadata": {},
   "outputs": [],
   "source": [
    "ns = NeighborSampler()"
   ]
  },
  {
   "cell_type": "markdown",
   "id": "5f911bcd",
   "metadata": {},
   "source": [
    "answer_id - код ответа в массиве, который получается при поиске ближайшего ответа\n"
   ]
  },
  {
   "cell_type": "code",
   "execution_count": 23,
   "id": "9a867fce",
   "metadata": {},
   "outputs": [],
   "source": [
    "ns.fit(matrix_small, good.reply) \n",
    "pipe = make_pipeline(vectorizer, svd, ns)"
   ]
  },
  {
   "cell_type": "code",
   "execution_count": 24,
   "id": "21969ea8",
   "metadata": {},
   "outputs": [
    {
     "name": "stdout",
     "output_type": "stream",
     "text": [
      "['потому что слишком много болтаю .']\n"
     ]
    }
   ],
   "source": [
    "print(pipe.predict(['почему так происходит?']))"
   ]
  },
  {
   "cell_type": "code",
   "execution_count": 25,
   "id": "cc2f9c83",
   "metadata": {},
   "outputs": [
    {
     "name": "stdout",
     "output_type": "stream",
     "text": [
      "['нет , мы проверяли .']\n"
     ]
    }
   ],
   "source": [
    "print(pipe.predict(['есть ли жизнь на Марсе?']))"
   ]
  },
  {
   "cell_type": "code",
   "execution_count": 26,
   "id": "bef0db44",
   "metadata": {},
   "outputs": [],
   "source": [
    "import pymorphy2\n",
    "import re"
   ]
  },
  {
   "cell_type": "markdown",
   "id": "5ee630aa",
   "metadata": {},
   "source": [
    "Настраиваем язык для библиотеки морфологии"
   ]
  },
  {
   "cell_type": "code",
   "execution_count": 27,
   "id": "0574f5a3",
   "metadata": {},
   "outputs": [],
   "source": [
    "morph = pymorphy2.MorphAnalyzer(lang='ru')"
   ]
  },
  {
   "cell_type": "markdown",
   "id": "b74c394d",
   "metadata": {},
   "source": [
    "Для удобства общения"
   ]
  },
  {
   "cell_type": "code",
   "execution_count": 28,
   "id": "f0b50155",
   "metadata": {},
   "outputs": [
    {
     "name": "stdout",
     "output_type": "stream",
     "text": [
      "Пишите ваш вопрос, слова exit или выход для выхода\n",
      "Кто ты\n",
      "['что я ?']\n",
      "Что ты?\n",
      "['у меня тоже для тебя кое - что есть .']\n",
      "И что же?\n",
      "['у меня тоже для тебя кое - что есть .']\n",
      "Плохой ответ\n",
      "['извини , пожалуйста .']\n",
      "Чем занимаешься?\n",
      "['нет , не надо .']\n",
      "Почему сразу не надо?\n",
      "['у меня тоже для тебя кое - что есть .']\n",
      "Ты повторяешься\n",
      "['я пойду с тобой .']\n",
      "Не ходи со мной\n",
      "['боже .']\n",
      "Не поминай в суе\n",
      "['я пойду с тобой .']\n",
      "Опять...\n",
      "['у меня тоже для тебя кое - что есть .']\n",
      "Ты так себе бот\n",
      "['что ?']\n",
      "Выход\n",
      "['действуйте как чемпионы , будьте чемпионами !']\n",
      "выход\n",
      "['футбол это серьёзно .']\n"
     ]
    }
   ],
   "source": [
    "print(\"Пишите ваш вопрос, слова exit или выход для выхода\")\n",
    "\n",
    "request=\"\"\n",
    "\n",
    "while request not in ['exit', 'выход']:\n",
    "    # получим текст от ввода\n",
    "    request=input()\n",
    "\n",
    "    # разберем фразу на слова\n",
    "    words= re.split('\\W',request)\n",
    "    phrase=\"\"\n",
    "    for word in words:\n",
    "        word = morph.parse(word)[0].normal_form  # морфируем слово вопроса в нормальную словоформу\n",
    "    # Нормализуем словоформу каждого слова и соберем обратно фразу\n",
    "    phrase = phrase + word + \" \"\n",
    "\n",
    "    # запустим функцию и получим код ответа\n",
    "    answer = pipe.predict([phrase.strip()])\n",
    "\n",
    "    # выведем текст ответа\n",
    "    print (answer)"
   ]
  },
  {
   "cell_type": "code",
   "execution_count": null,
   "id": "ad7aae90",
   "metadata": {},
   "outputs": [],
   "source": []
  }
 ],
 "metadata": {
  "kernelspec": {
   "display_name": "Python 3 (ipykernel)",
   "language": "python",
   "name": "python3"
  },
  "language_info": {
   "codemirror_mode": {
    "name": "ipython",
    "version": 3
   },
   "file_extension": ".py",
   "mimetype": "text/x-python",
   "name": "python",
   "nbconvert_exporter": "python",
   "pygments_lexer": "ipython3",
   "version": "3.9.6"
  }
 },
 "nbformat": 4,
 "nbformat_minor": 5
}
